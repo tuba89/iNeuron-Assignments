{
 "cells": [
  {
   "cell_type": "markdown",
   "id": "797b713a",
   "metadata": {},
   "source": [
    "### <font color=\"#E52B50\">  EXERCISE 1 </font>\n",
    "#### Plot a histogram:\n",
    "\n",
    "**10, 13, 18, 22, 27, 32, 38, 40,45, 51, 56, 57, 88, 90, 92, 94, 99**\n"
   ]
  },
  {
   "cell_type": "markdown",
   "id": "006325fe",
   "metadata": {},
   "source": [
    "<div style=\"max-width:600px;margin-left: 0;\"> <img src=\"images/image28.png\" alt=\"Histogram\"/></div> "
   ]
  },
  {
   "cell_type": "markdown",
   "id": "d130c588",
   "metadata": {},
   "source": [
    "***\n",
    "---\n",
    "\n",
    "<hr style=\"border:2px dashed #FFB6C1\">"
   ]
  },
  {
   "cell_type": "markdown",
   "id": "086f2294",
   "metadata": {},
   "source": [
    "### <font color=\"#E52B50\">  EXERCISE 2 </font>"
   ]
  },
  {
   "cell_type": "markdown",
   "id": "01b96d04",
   "metadata": {},
   "source": [
    "<p>In a quant test of the CAT Exam, the population standard deviation is known to be 100. A sample of 25 tests taken has a mean of 520. <br><b>Construct an 80% CI about the mean.</b> <p>\n"
   ]
  },
  {
   "cell_type": "markdown",
   "id": "c6a2741d",
   "metadata": {},
   "source": [
    "$𝞼 = 100$\n",
    "\n",
    "$n = 25$\n",
    "\n",
    "$x̄ =520$\n",
    "\n",
    "$CI  = 80  \\%$"
   ]
  },
  {
   "cell_type": "markdown",
   "id": "1feef97a",
   "metadata": {},
   "source": [
    "With the use of the sample mean **(520)**, which is the **point estimate**, I attempt to estimate the population mean.\n",
    "\n",
    "It would be a **two-tailed test** because it concern whether there is a **<u>difference</u>** between the two means.\n",
    "\n",
    "Even though our sample size **<font color=\"#007FFF\">$n$</font>** is less than **<font color=\"#007FFF\">$30$</font>**, I'll still apply the **<font color=\"#007FFF\">$z$-$test$</font>** since a parameter from the population data (the population standard deviation $\\sigma$) is provided.\n",
    "\n",
    "If I consider that distribution of the sample mean is <u>approximately normally distributed</u> as shown below : \n"
   ]
  },
  {
   "cell_type": "markdown",
   "id": "c8ff7943",
   "metadata": {},
   "source": [
    "<div style=\"max-width:600px;margin-left: 0;\"> <img src=\"images/image26.png\" alt=\"Gaussian distribution\"/></div> "
   ]
  },
  {
   "cell_type": "code",
   "execution_count": null,
   "id": "780675d2",
   "metadata": {},
   "outputs": [],
   "source": []
  },
  {
   "cell_type": "markdown",
   "id": "ba76ed6b",
   "metadata": {},
   "source": [
    "And by using an <font color =\"#007FFF\" > $80$ $\\%$</font> **confidence interval**, I can calculate the **range** of the population mean **$𝝁$**, as well as the **lower** and **upper limits** within which the mean may fall."
   ]
  },
  {
   "cell_type": "markdown",
   "id": "d46412e2",
   "metadata": {},
   "source": [
    "Confidence Interval = [lower limit, upper limit]<br>\n",
    "Confidence Interval = Point estimate ± Margin of error.<br>\n",
    "Point estimate is $x̄$ = $520$<br>\n",
    "\n",
    "#### $C.I$ = **$x̄ ±  Z_{α/2}  \\times \\frac{\\sigma}{\\sqrt{n}} $**   \n",
    "\n",
    "#### $\\alpha$ (<font color=\"#007FFF\"> <em>the significance value</em> </font> ) $= 1- 80 \\%$ Confidence $=$  $1-0.8$<br>\n",
    "\n",
    "#### $\\alpha = 0.2$\n",
    "\n",
    "#### $C.I = 520 ±  Z_{0.2/2}  \\times 100/25$\n",
    "\n",
    "#### $Z_{0.2/2}  =   Z_{0.1}$  \n"
   ]
  },
  {
   "cell_type": "markdown",
   "id": "2ddf46dc",
   "metadata": {},
   "source": [
    "##### $\\alpha = 0.2$, then $\\frac {\\alpha} {2}$ $= 0.1$\n",
    "\n",
    "If $\\frac {\\alpha} {2}$ $= 0.1$ then the **area under the curve** of the Gaussian distribution for our expected range will be $0.9 ( Z_{0.1} = 1-0.1 = 0.9)$, So I find the <b>z-score</b> of <font color=\"#00A86B\">about  $1.28$</font> in the *Z-table* \n",
    "\n",
    "(Even if I chose $1.29$, the result will be nearly identical to 1.28, with only minor differences in decimals.)\n",
    "\n",
    "\n"
   ]
  },
  {
   "cell_type": "markdown",
   "id": "fb410ca1",
   "metadata": {},
   "source": [
    "<div style=\"max-width:300px;margin-left: 0;\"> <img src=\"images/Ztable2.png\" alt=\"z-table\"/></div> \n"
   ]
  },
  {
   "cell_type": "markdown",
   "id": "4218c3ce",
   "metadata": {},
   "source": [
    "#### Lower limit = $520 - 1.28 \\times 100/\\sqrt25 = 494.4$\n",
    "\n",
    "#### Upper limit = $520 + 1.28 \\times 100/\\sqrt25 = 545.6$\n",
    "\n",
    "The sample mean is $520$ and the confidence interval is [$494.4$  to  $545.6$], so the conclusion is : <br>\n",
    "#### I estimate that the population means of the quant test will fall between $494.4$ and $494.$ with a $80  \\%$ confidence interval.\n"
   ]
  },
  {
   "cell_type": "markdown",
   "id": "b0fd20c1",
   "metadata": {},
   "source": [
    "***\n",
    "---\n",
    "\n",
    "<hr style=\"border:2px dashed #FFB6C1\">"
   ]
  },
  {
   "cell_type": "markdown",
   "id": "f51b6525",
   "metadata": {},
   "source": [
    "### <font color=\"#E52B50\">  EXERCISE 3 </font>"
   ]
  },
  {
   "cell_type": "markdown",
   "id": "28df81b9",
   "metadata": {},
   "source": [
    "A car believes that the percentage of citizens in city ABC that owns a vehicle is 60% or less. <br>A sales manager disagrees with this. He conducted a hypothesis testing surveying 250 residents & found that 170 residents responded yes to owning a vehicle."
   ]
  },
  {
   "cell_type": "markdown",
   "id": "36c5b56d",
   "metadata": {},
   "source": [
    "#### a)  <em> State the null & alternative hypothesis.</em>\n",
    "\n",
    "The claim is $60 \\%$ **or less** which is the *null hypothesis*, but the sales manager **disagrees** with this which means that the *alternative hypothesis* is **greater than** $60 \\%$, So: \n",
    "\n",
    "$\\rightarrow$ **Null hypothesis** ($H_0$): 60% of citizens own a vehicle or less.<br>\n",
    "$\\rightarrow$ **Alternative hypothesis** ($H_1$): greater than 60% of citizens own a vehicle.\n",
    "\n",
    "<font color=#007FFF> $ H_0$</font>$: p_o <= 0.6$ <br>\n",
    "<font color=#007FFF> $ H_1$</font>$: p_o > 0.6$ \n",
    "\n",
    "\n",
    "\n",
    "#### b)  <em>At a 10% significance level, is there enough evidence to support the idea that vehicle ownership in ABC city is 60% or less.</em>\n",
    "\n",
    "#### $n= 250$ residents\n",
    "\n",
    "#### $𝒙$ value $= 170$ said yes ($170$ residents out of $250$ own a car)\n",
    "\n",
    "### $p̂= \\frac{x} {n} = \\frac{170} {250} $\n",
    "\n",
    "### $p̂= 0.68$\n",
    "\n",
    "### $\\alpha = 0.1$\n",
    "\n",
    "Since $n$ is greater than $30$, the $z$-$test$ for proportions is suitable in this case:\n",
    "\n",
    "This is a **one tailed test**: $H_1$ **is greater than** $0.6$ so the **rejection region** is on the **right side** and to find out the right-tailed value we use the $\\alpha$ value : <br>\n",
    "Since **$\\alpha = 0.1$**, then the *area under the curve* is $1 - \\alpha = 1 - 0.1 = 0.9$. \n",
    "\n",
    "So our **critical $z$-$value$** is **$1.28$**. As shown by the curve below:\n",
    "\n"
   ]
  },
  {
   "cell_type": "markdown",
   "id": "1b08396f",
   "metadata": {},
   "source": [
    "<div style=\"max-width:600px;margin-left: 0;\"> <img src=\"images/image30.png\" alt=\"bell_curv_rejection\"/></div> "
   ]
  },
  {
   "cell_type": "markdown",
   "id": "bdb56a8c",
   "metadata": {},
   "source": [
    "### Now, we calculate the <u>test statistic</u>:<br>\n"
   ]
  },
  {
   "cell_type": "markdown",
   "id": "52247bfc",
   "metadata": {},
   "source": [
    "## ${ z = \\frac {\\hat p - p_o}{\\sqrt{\\frac{p_o(1 - p_o)}{n}}} }$\n",
    "### ${ z = \\frac {0.68 - 0.6}{\\sqrt{\\frac{0.6(1 - 0.6)}{250}}} }$\n",
    "\n",
    "So; \n",
    "### <span style='background :#AAF0D1' >$\\Rightarrow z \\approx 2.58$</span>"
   ]
  },
  {
   "cell_type": "markdown",
   "id": "2d753ab1",
   "metadata": {},
   "source": [
    "### <font color=\"#333399\"><u>Conclusion from rejection region</u> </font>: \n",
    "The found **$Z$ statistic value $2.58$** is **above the critical value $1.28$**, so we <font color=\"#FC6C85\">**reject**</font> the *null hypothesis* $(H_o <= 60  \\%)$.<br>**No** there is not enough evidence to support the idea that vehicle ownership in ABC city is $60  \\%$ or **less**\n"
   ]
  },
  {
   "cell_type": "markdown",
   "id": "549068d2",
   "metadata": {},
   "source": [
    "### Calculate the <u>P-value</u> : <br>\n",
    "The value $2.58$ in **the normal distribution's z-table** is about $\\approx 0.9951$.\n",
    "\n",
    "$0.9951$ is the area in the **left side**, Since the entire area is equal to **$1$** then the area in the left tail is **$1-0.9951 \\approx 0.0049$**.\n",
    "\n",
    "So;\n",
    "### <span style='background :#AAF0D1' >$\\Rightarrow$ P-value $\\approx 0.0049$</span>\n"
   ]
  },
  {
   "cell_type": "markdown",
   "id": "b398d7a1",
   "metadata": {},
   "source": [
    "<div style=\"max-width:600px;margin-left: 0;\"> <img src=\"images/image29.png\" alt=\"bell_curve_p_value\"/></div> "
   ]
  },
  {
   "cell_type": "markdown",
   "id": "c7fcbd75",
   "metadata": {},
   "source": [
    "### <font color=\"#333399\"><u>Conclusion from rejection p-value</u> </font>: \n",
    "$p$-value is **less than** $\\alpha$ $(0.0049 < 0.1)$, So we <font color=\"#FC6C85\">**reject**</font> the **null hypothesis** and <font color=\"#03C03C\">**accept**</font> the **salesman hypothesis**, which states that **more than $60$ $\\%$ of residents** in the city ABC **own** a vehicle.\n"
   ]
  },
  {
   "cell_type": "markdown",
   "id": "0a645373",
   "metadata": {},
   "source": [
    "***\n",
    "---\n",
    "\n",
    "<hr style=\"border:2px dashed #FFB6C1\">"
   ]
  },
  {
   "cell_type": "markdown",
   "id": "6065957e",
   "metadata": {},
   "source": [
    "### <font color=\"#E52B50\">  EXERCISE 4 </font>"
   ]
  },
  {
   "cell_type": "markdown",
   "id": "f72c4d23",
   "metadata": {},
   "source": [
    "### The value of the 99 percentile"
   ]
  },
  {
   "cell_type": "markdown",
   "id": "0c979e62",
   "metadata": {},
   "source": [
    "$2,2,3,4,5,5,5,6,7,8,8,8,8,8,9,9,10,11,11,12$"
   ]
  },
  {
   "cell_type": "markdown",
   "id": "05ce235d",
   "metadata": {},
   "source": [
    "### Value $= \\frac {99}{100 \\times (n+1)} = 0.99 \\times 21 = 20.79$\n"
   ]
  },
  {
   "cell_type": "markdown",
   "id": "a20e1dcd",
   "metadata": {},
   "source": [
    "<div style=\"max-width:350px;margin-left: 0;\"> <img src=\"images/rank.png\" alt=\"99th\"/></div> "
   ]
  },
  {
   "cell_type": "markdown",
   "id": "f4a0476f",
   "metadata": {},
   "source": [
    "As we have exactly $20$ values, the last value is the $99$ percentile, which has an index of $20$, hence the value of the $99th$ percentile equals  <font color=\"blue\">$12$</font>."
   ]
  },
  {
   "cell_type": "markdown",
   "id": "30017391",
   "metadata": {},
   "source": [
    "***\n",
    "---\n",
    "\n",
    "<hr style=\"border:2px dashed #FFB6C1\">"
   ]
  },
  {
   "cell_type": "markdown",
   "id": "536fc3ea",
   "metadata": {},
   "source": [
    "### <font color=\"#E52B50\">  EXERCISE 5 </font>"
   ]
  },
  {
   "cell_type": "markdown",
   "id": "a263f3e3",
   "metadata": {},
   "source": [
    "### In left & right-skewed data, what is the relationship between mean, median & mode?"
   ]
  },
  {
   "cell_type": "markdown",
   "id": "d1e5c6d0",
   "metadata": {},
   "source": [
    "1. In a **right-skewed** distribution: <br>\n",
    "    The **mean** is to the right of the **median**, indicating that it is **greater than the median**. \n",
    "    \n",
    "    The **mode** appears at the **highest frequency** on the **peak** of the curve, somewhere in the **left side** before the **median**, meaning the **mode is less than the median**.\n",
    "\n",
    "#### <u>Right skewed graph</u>: <font color= \"blue\"> (Mode < Median < Mean) </font>, as shown below:\n"
   ]
  },
  {
   "cell_type": "markdown",
   "id": "7c8ec29e",
   "metadata": {},
   "source": [
    "<div style=\"max-width:350px;margin-left: 0;\"> <img src=\"images/image25.png\" alt=\"left_skewed\"/></div> "
   ]
  },
  {
   "cell_type": "markdown",
   "id": "73da227d",
   "metadata": {},
   "source": [
    "2. In a **Left-skewed** distribution: \n",
    "    The **mean** is to the **left** of the **median**, indicating that it is **lower than the median**. \n",
    "    \n",
    "    The **mode** occurs on the top of the curve, **the highest frequency**, is somewhere in the **right side** of the graph before the **median**, which means that the **mode is greater than the median**.\n",
    "    \n",
    "#### <u>Left skewed graph</u>: <font color=\"blue\"> (Mode > Median > Mean)</font>, as shown below:\n"
   ]
  },
  {
   "cell_type": "markdown",
   "id": "63162bb8",
   "metadata": {},
   "source": [
    "<div style=\"max-width:350px;margin-left: 0;\"> <img src=\"images/image27.png\" alt=\"right_skewed\"/></div> "
   ]
  },
  {
   "cell_type": "markdown",
   "id": "34996f11",
   "metadata": {},
   "source": [
    "<colgroup>\n",
    "    <col style=\"width: 50%\">\n",
    "    <col style=\"width: 50%\">\n",
    "<colgroup>"
   ]
  },
  {
   "cell_type": "markdown",
   "id": "65101fed",
   "metadata": {},
   "source": [
    "<style>\n",
    "table th:first-of-type {\n",
    "    width: 10%;\n",
    "}\n",
    "table th:nth-of-type(2) {\n",
    "    width: 10%;\n",
    "}\n",
    "table th:nth-of-type(3) {\n",
    "    width: 50%;\n",
    "}\n",
    "table th:nth-of-type(4) {\n",
    "    width: 30%;\n",
    "}\n",
    "</style>\n",
    "\n",
    "\n"
   ]
  },
  {
   "cell_type": "markdown",
   "id": "83ee6af9",
   "metadata": {},
   "source": [
    "<blockquote><p><mark>End of the assignment</mark></p></blockquote>"
   ]
  }
 ],
 "metadata": {
  "kernelspec": {
   "display_name": "Python 3 (ipykernel)",
   "language": "python",
   "name": "python3"
  },
  "language_info": {
   "codemirror_mode": {
    "name": "ipython",
    "version": 3
   },
   "file_extension": ".py",
   "mimetype": "text/x-python",
   "name": "python",
   "nbconvert_exporter": "python",
   "pygments_lexer": "ipython3",
   "version": "3.9.11"
  }
 },
 "nbformat": 4,
 "nbformat_minor": 5
}
