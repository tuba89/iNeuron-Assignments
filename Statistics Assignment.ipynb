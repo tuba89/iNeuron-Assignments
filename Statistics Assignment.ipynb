{
 "cells": [
  {
   "cell_type": "markdown",
   "id": "797b713a",
   "metadata": {},
   "source": [
    "### <font color=\"#E52B50\">  EXERCISE 1 </font>\n",
    "#### Plot a histogram:\n",
    "\n",
    "**10, 13, 18, 22, 27, 32, 38, 40,45, 51, 56, 57, 88, 90, 92, 94, 99**\n"
   ]
  },
  {
   "cell_type": "markdown",
   "id": "006325fe",
   "metadata": {},
   "source": [
    "<div style=\"max-width:600px;margin-left: 0;\"> <img src=\"images/image28.png\" alt=\"Histogram\"/></div> "
   ]
  },
  {
   "cell_type": "markdown",
   "id": "d130c588",
   "metadata": {},
   "source": [
    "***\n",
    "***\n",
    "***"
   ]
  },
  {
   "cell_type": "markdown",
   "id": "086f2294",
   "metadata": {},
   "source": [
    "### <font color=\"#E52B50\">  EXERCISE 2 </font>"
   ]
  },
  {
   "cell_type": "markdown",
   "id": "01b96d04",
   "metadata": {},
   "source": [
    "<p>In a quant test of the CAT Exam, the population standard deviation is known to be 100. A sample of 25 tests taken has a mean of 520. <br><b>Construct an 80% CI about the mean.</b> <p>\n"
   ]
  },
  {
   "cell_type": "markdown",
   "id": "c6a2741d",
   "metadata": {},
   "source": [
    "$𝞼 = 100$\n",
    "\n",
    "$n = 25$\n",
    "\n",
    "$x̄ =520$\n",
    "\n",
    "$CI  = 80  \\%$"
   ]
  },
  {
   "cell_type": "markdown",
   "id": "1feef97a",
   "metadata": {},
   "source": [
    "With the use of the sample mean **(520)**, which is the **point estimate**, I attempt to estimate the population mean.\n",
    "\n",
    "It would be a **two-tailed test** because it concern whether there is a **<u>difference</u>** between the two means.\n",
    "\n",
    "Even though our sample size **<font color=\"#007FFF\">$n$</font>** is less than **<font color=\"#007FFF\">$30$</font>**, I'll still apply the **<font color=\"#007FFF\">$z$-$test$</font>** since a parameter from the population data (the population standard deviation $\\sigma$) is provided.\n",
    "\n",
    "If I consider that distribution of the sample mean is <u>approximately normally distributed</u> as shown below : \n"
   ]
  },
  {
   "cell_type": "markdown",
   "id": "c8ff7943",
   "metadata": {},
   "source": [
    "<div style=\"max-width:600px;margin-left: 0;\"> <img src=\"image26.png\" alt=\"Gaussian distribution\"/></div> "
   ]
  },
  {
   "cell_type": "code",
   "execution_count": null,
   "id": "780675d2",
   "metadata": {},
   "outputs": [],
   "source": [
    "<font color=\"#007FFF\">**$z$-$test$**</font>"
   ]
  },
  {
   "cell_type": "markdown",
   "id": "ba76ed6b",
   "metadata": {},
   "source": [
    "And by using an <font color =\"#007FFF\" > $80$ $\\%$</font> **confidence interval**, I can calculate the **range** of the population mean **$𝝁$**, as well as the **lower** and **upper limits** within which the mean may fall."
   ]
  },
  {
   "cell_type": "code",
   "execution_count": null,
   "id": "1d2a60ba",
   "metadata": {},
   "outputs": [],
   "source": []
  },
  {
   "cell_type": "markdown",
   "id": "9e9bc365",
   "metadata": {},
   "source": [
    "<p lang=\"en-US\">Consider the following quote:</p>\n",
    "<blockquote lang=\"en-GB\">\n",
    " <p>Look around and you will find, no-one's really\n",
    " <mark>colour</mark> blind.</p>\n",
    "</blockquote>\n",
    "<p lang=\"en-US\">As we can tell from the <em>spelling</em> of the word,\n",
    "the person writing this quote is clearly not American.</p>"
   ]
  },
  {
   "cell_type": "markdown",
   "id": "ebc4fbef",
   "metadata": {},
   "source": [
    "<pre><code class=\"lang-c\"><span class=\"keyword\">for</span> (<span class=\"ident\">j</span> = 0; <span class=\"ident\">j</span> &lt; 256; <span class=\"ident\">j</span>++) {\n",
    "  <span class=\"ident\">i_t3</span> = (<span class=\"ident\">i_t3</span> & 0x1ffff) | (<span class=\"ident\">j</span> &lt;&lt; 17);\n",
    "  <span class=\"ident\">i_t6</span> = (((((((<span class=\"ident\">i_t3</span> >> 3) ^ <span class=\"ident\">i_t3</span>) >> 1) ^ <span class=\"ident\">i_t3</span>) >> 8) ^ <span class=\"ident\">i_t3</span>) >> 5) & 0xff;\n",
    "  <span class=\"keyword\">if</span> (<span class=\"ident\">i_t6</span> == <span class=\"ident\">i_t1</span>)\n",
    "    <span class=\"keyword\">break</span>;\n",
    "}</code></pre>"
   ]
  },
  {
   "cell_type": "markdown",
   "id": "5bae296f",
   "metadata": {},
   "source": [
    "<p>P. Sherman<br>\n",
    "42 Wallaby Way<br>\n",
    "Sydney</p>"
   ]
  },
  {
   "cell_type": "code",
   "execution_count": null,
   "id": "1cc1b5ea",
   "metadata": {},
   "outputs": [],
   "source": []
  },
  {
   "cell_type": "code",
   "execution_count": null,
   "id": "1d9019d1",
   "metadata": {},
   "outputs": [],
   "source": []
  }
 ],
 "metadata": {
  "kernelspec": {
   "display_name": "Python 3 (ipykernel)",
   "language": "python",
   "name": "python3"
  },
  "language_info": {
   "codemirror_mode": {
    "name": "ipython",
    "version": 3
   },
   "file_extension": ".py",
   "mimetype": "text/x-python",
   "name": "python",
   "nbconvert_exporter": "python",
   "pygments_lexer": "ipython3",
   "version": "3.9.11"
  }
 },
 "nbformat": 4,
 "nbformat_minor": 5
}
